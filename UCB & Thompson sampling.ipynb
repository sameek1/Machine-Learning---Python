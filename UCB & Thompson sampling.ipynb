{
 "cells": [
  {
   "cell_type": "code",
   "execution_count": 1,
   "metadata": {},
   "outputs": [],
   "source": [
    "import numpy as np\n",
    "import matplotlib.pyplot as plt\n",
    "import pandas as pd\n",
    "import math #Will help with the Sqrt formula for UCB\n",
    "import random #Used in case of Thompson Sampling\n",
    "#Import the csv file by putting in the correct path\n",
    "df = pd.read_csv(r'C:\\Users\\sambajaj0\\Desktop\\Datawarehouse_report\\DWH_report.csv')"
   ]
  },
  {
   "cell_type": "code",
   "execution_count": 31,
   "metadata": {},
   "outputs": [
    {
     "data": {
      "text/plain": [
       "20000"
      ]
     },
     "execution_count": 31,
     "metadata": {},
     "output_type": "execute_result"
    }
   ],
   "source": [
    "#You may want to clean up irrelevant columns from the dataset before implementation\n",
    "Num_Rows = 20000 #no. of rows\n",
    "Num_Col = len(df.columns) #no. of columns\n",
    "Num_Rows"
   ]
  },
  {
   "cell_type": "code",
   "execution_count": 32,
   "metadata": {},
   "outputs": [
    {
     "data": {
      "image/png": "[encoded data removed]",
      "text/plain": [
       "<Figure size 432x288 with 1 Axes>"
      ]
     },
     "metadata": {
      "needs_background": "light"
     },
     "output_type": "display_data"
    }
   ],
   "source": [
    "#Upper Confidence Bound\n",
    "Teaser_UCB = []\n",
    "numbers_of_selections = [0] * Num_Col\n",
    "sums_of_rewards = [0] * Num_Col\n",
    "total_reward = 0\n",
    "for n in range(0, Num_Rows):\n",
    "  ts = 0\n",
    "  max_upper_bound = 0\n",
    "  for i in range(0, Num_Col):\n",
    "    if (numbers_of_selections[i] > 0):\n",
    "      average_reward = sums_of_rewards[i] / numbers_of_selections[i]\n",
    "      delta_i = math.sqrt(3/2 * math.log(n + 1) / numbers_of_selections[i])\n",
    "      upper_bound = average_reward + delta_i\n",
    "    else:\n",
    "      upper_bound = 1e400\n",
    "    if (upper_bound > max_upper_bound):\n",
    "      max_upper_bound = upper_bound\n",
    "      ts = i\n",
    "  Teaser_UCB.append(ts)\n",
    "  numbers_of_selections[ts] += 1\n",
    "  reward = df.values[n, ts]\n",
    "  sums_of_rewards[ts] = sums_of_rewards[ts] + reward\n",
    "  total_reward = total_reward + reward\n",
    "\n",
    "#Visualization\n",
    "x = list(df)\n",
    "plt.hist(Teaser_UCB, align = ('mid'),bins=np.arange(-1,5)+0.5, ec=\"k\")\n",
    "plt.title('Upper Confidence Bound')\n",
    "plt.xlabel('Teasers')\n",
    "plt.ylabel('Frequency')\n",
    "plt.locator_params(axis='x', integer=True)\n",
    "plt.show()"
   ]
  },
  {
   "cell_type": "code",
   "execution_count": 33,
   "metadata": {},
   "outputs": [
    {
     "data": {
      "image/png": "[encoded data removed]",
      "text/plain": [
       "<Figure size 432x288 with 1 Axes>"
      ]
     },
     "metadata": {
      "needs_background": "light"
     },
     "output_type": "display_data"
    }
   ],
   "source": [
    "#Thompson Sampling\n",
    "Teaser_TH = []\n",
    "numbers_of_rewards_1 = [0] * Num_Col\n",
    "numbers_of_rewards_0 = [0] * Num_Col\n",
    "total_reward = 0\n",
    "for n in range(0, Num_Rows):\n",
    "  ts = 0\n",
    "  max_random = 0\n",
    "  for i in range(0, Num_Col):\n",
    "    random_beta = random.betavariate(numbers_of_rewards_1[i] + 1, numbers_of_rewards_0[i] + 1)\n",
    "    if (random_beta > max_random):\n",
    "      max_random = random_beta\n",
    "      ts = i\n",
    "  Teaser_TH.append(ts)\n",
    "  reward = df.values[n, ts]\n",
    "  if reward == 1:\n",
    "    numbers_of_rewards_1[ts] += 1\n",
    "  else:\n",
    "    numbers_of_rewards_0[ts] += 1\n",
    "  total_reward = total_reward + reward\n",
    "\n",
    "#Visualization\n",
    "x1 = list(df)\n",
    "plt.hist(Teaser_TH, align = ('mid'),bins=np.arange(-1,5)+0.5, ec=\"k\")\n",
    "plt.title('Thompson Sampling')\n",
    "plt.xlabel('Teasers')\n",
    "plt.ylabel('Frequency')\n",
    "plt.locator_params(axis='x', integer=True)\n",
    "plt.show()"
   ]
  },
  {
   "cell_type": "code",
   "execution_count": 34,
   "metadata": {},
   "outputs": [
    {
     "data": {
      "text/plain": [
       "<BarContainer object of 5 artists>"
      ]
     },
     "execution_count": 34,
     "metadata": {},
     "output_type": "execute_result"
    },
    {
     "data": {
      "image/png": "[encoded data removed]",
      "text/plain": [
       "<Figure size 432x288 with 1 Axes>"
      ]
     },
     "metadata": {
      "needs_background": "light"
     },
     "output_type": "display_data"
    }
   ],
   "source": [
    "#Overall\n",
    "plt.bar(x= list(df), height= df.iloc[:Num_Rows].sum())"
   ]
  },
  {
   "cell_type": "code",
   "execution_count": null,
   "metadata": {},
   "outputs": [],
   "source": []
  },
  {
   "cell_type": "code",
   "execution_count": null,
   "metadata": {},
   "outputs": [],
   "source": []
  }
 ],
 "metadata": {
  "kernelspec": {
   "display_name": "Python 3",
   "language": "python",
   "name": "python3"
  },
  "language_info": {
   "codemirror_mode": {
    "name": "ipython",
    "version": 3
   },
   "file_extension": ".py",
   "mimetype": "text/x-python",
   "name": "python",
   "nbconvert_exporter": "python",
   "pygments_lexer": "ipython3",
   "version": "3.8.3"
  }
 },
 "nbformat": 4,
 "nbformat_minor": 4
}
